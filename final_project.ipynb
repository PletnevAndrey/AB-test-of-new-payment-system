{
 "cells": [
  {
   "cell_type": "markdown",
   "metadata": {},
   "source": [
    "# A/B–тестирование новой механики оплаты\n",
    "\n",
    "### 1.1 Условие\n",
    "В ходе тестирования одной гипотезы целевой группе была предложена новая механика оплаты услуг на сайте, у контрольной группы оставалась базовая механика. В качестве задания Вам необходимо проанализировать итоги эксперимента и сделать вывод, стоит ли запускать новую механику оплаты на всех пользователей.\n",
    "\n",
    "### 1.2 Входные данные\n",
    "В качестве входных данных Вы имеете 4 csv-файла:\n",
    "\n",
    "- groups.csv - файл с информацией о принадлежности пользователя к контрольной или экспериментальной группе (А – контроль, B – целевая группа) \n",
    "- groups_add.csv - дополнительный файл с пользователями, который вам прислали спустя 2 дня после передачи данных\n",
    "- active_studs.csv - файл с информацией о пользователях, которые зашли на платформу в дни проведения эксперимента. \n",
    "- checks.csv - файл с информацией об оплатах пользователей в дни проведения эксперимента. "
   ]
  },
  {
   "cell_type": "code",
   "execution_count": 1,
   "metadata": {},
   "outputs": [],
   "source": [
    "import pandas as pd\n",
    "import seaborn as sns\n",
    "import numpy as np\n",
    "import scipy\n",
    "from tqdm.auto import tqdm\n",
    "from scipy.stats import norm, shapiro\n",
    "import matplotlib.pyplot as plt\n",
    "from scipy.stats import chi2_contingency\n",
    "import pylab \n",
    "import scipy.stats as stats\n",
    "from scipy.stats import normaltest\n",
    "from scipy.stats import anderson"
   ]
  },
  {
   "cell_type": "code",
   "execution_count": 2,
   "metadata": {},
   "outputs": [],
   "source": [
    "groups       = pd.read_csv(r'C:\\Users\\pletn\\Documents\\notebooks\\final_projects\\2\\groups.csv', sep=';')\n",
    "groups_add   = pd.read_csv(r'C:\\Users\\pletn\\Documents\\notebooks\\final_projects\\2\\group_add.csv', sep=',')\n",
    "active_studs = pd.read_csv(r'C:\\Users\\pletn\\Documents\\notebooks\\final_projects\\2\\active_studs.csv', sep=';')\n",
    "checks       = pd.read_csv(r'C:\\Users\\pletn\\Documents\\notebooks\\final_projects\\2\\checks.csv', sep=';')"
   ]
  },
  {
   "cell_type": "markdown",
   "metadata": {},
   "source": [
    "### 1.3 Разведочный анализ"
   ]
  },
  {
   "cell_type": "code",
   "execution_count": 3,
   "metadata": {},
   "outputs": [
    {
     "data": {
      "text/html": [
       "<div>\n",
       "<style scoped>\n",
       "    .dataframe tbody tr th:only-of-type {\n",
       "        vertical-align: middle;\n",
       "    }\n",
       "\n",
       "    .dataframe tbody tr th {\n",
       "        vertical-align: top;\n",
       "    }\n",
       "\n",
       "    .dataframe thead th {\n",
       "        text-align: right;\n",
       "    }\n",
       "</style>\n",
       "<table border=\"1\" class=\"dataframe\">\n",
       "  <thead>\n",
       "    <tr style=\"text-align: right;\">\n",
       "      <th></th>\n",
       "      <th>id</th>\n",
       "      <th>grp</th>\n",
       "    </tr>\n",
       "  </thead>\n",
       "  <tbody>\n",
       "    <tr>\n",
       "      <th>0</th>\n",
       "      <td>1489</td>\n",
       "      <td>B</td>\n",
       "    </tr>\n",
       "    <tr>\n",
       "      <th>1</th>\n",
       "      <td>1627</td>\n",
       "      <td>A</td>\n",
       "    </tr>\n",
       "    <tr>\n",
       "      <th>2</th>\n",
       "      <td>1768</td>\n",
       "      <td>B</td>\n",
       "    </tr>\n",
       "    <tr>\n",
       "      <th>3</th>\n",
       "      <td>1783</td>\n",
       "      <td>B</td>\n",
       "    </tr>\n",
       "    <tr>\n",
       "      <th>4</th>\n",
       "      <td>1794</td>\n",
       "      <td>A</td>\n",
       "    </tr>\n",
       "  </tbody>\n",
       "</table>\n",
       "</div>"
      ],
      "text/plain": [
       "     id grp\n",
       "0  1489   B\n",
       "1  1627   A\n",
       "2  1768   B\n",
       "3  1783   B\n",
       "4  1794   A"
      ]
     },
     "execution_count": 3,
     "metadata": {},
     "output_type": "execute_result"
    }
   ],
   "source": [
    "groups.head()"
   ]
  },
  {
   "cell_type": "code",
   "execution_count": 4,
   "metadata": {},
   "outputs": [
    {
     "name": "stdout",
     "output_type": "stream",
     "text": [
      "<class 'pandas.core.frame.DataFrame'>\n",
      "RangeIndex: 74484 entries, 0 to 74483\n",
      "Data columns (total 2 columns):\n",
      " #   Column  Non-Null Count  Dtype \n",
      "---  ------  --------------  ----- \n",
      " 0   id      74484 non-null  int64 \n",
      " 1   grp     74484 non-null  object\n",
      "dtypes: int64(1), object(1)\n",
      "memory usage: 1.1+ MB\n"
     ]
    }
   ],
   "source": [
    "groups.info()"
   ]
  },
  {
   "cell_type": "code",
   "execution_count": 5,
   "metadata": {},
   "outputs": [
    {
     "data": {
      "text/plain": [
       "False"
      ]
     },
     "execution_count": 5,
     "metadata": {},
     "output_type": "execute_result"
    }
   ],
   "source": [
    "# Имеются ли дубликаты по id\n",
    "\n",
    "groups.id.nunique() != groups.shape[0]"
   ]
  },
  {
   "cell_type": "code",
   "execution_count": 6,
   "metadata": {},
   "outputs": [
    {
     "data": {
      "text/plain": [
       "B    59813\n",
       "A    14671\n",
       "Name: grp, dtype: int64"
      ]
     },
     "execution_count": 6,
     "metadata": {},
     "output_type": "execute_result"
    }
   ],
   "source": [
    "# Сколько пользователей в каждой группе\n",
    "\n",
    "groups.grp.value_counts()"
   ]
  },
  {
   "cell_type": "code",
   "execution_count": 7,
   "metadata": {},
   "outputs": [
    {
     "data": {
      "text/html": [
       "<div>\n",
       "<style scoped>\n",
       "    .dataframe tbody tr th:only-of-type {\n",
       "        vertical-align: middle;\n",
       "    }\n",
       "\n",
       "    .dataframe tbody tr th {\n",
       "        vertical-align: top;\n",
       "    }\n",
       "\n",
       "    .dataframe thead th {\n",
       "        text-align: right;\n",
       "    }\n",
       "</style>\n",
       "<table border=\"1\" class=\"dataframe\">\n",
       "  <thead>\n",
       "    <tr style=\"text-align: right;\">\n",
       "      <th></th>\n",
       "      <th>id</th>\n",
       "      <th>grp</th>\n",
       "    </tr>\n",
       "  </thead>\n",
       "  <tbody>\n",
       "    <tr>\n",
       "      <th>0</th>\n",
       "      <td>5694584</td>\n",
       "      <td>B</td>\n",
       "    </tr>\n",
       "    <tr>\n",
       "      <th>1</th>\n",
       "      <td>5694830</td>\n",
       "      <td>B</td>\n",
       "    </tr>\n",
       "    <tr>\n",
       "      <th>2</th>\n",
       "      <td>5695057</td>\n",
       "      <td>B</td>\n",
       "    </tr>\n",
       "    <tr>\n",
       "      <th>3</th>\n",
       "      <td>5698872</td>\n",
       "      <td>B</td>\n",
       "    </tr>\n",
       "    <tr>\n",
       "      <th>4</th>\n",
       "      <td>5699067</td>\n",
       "      <td>B</td>\n",
       "    </tr>\n",
       "  </tbody>\n",
       "</table>\n",
       "</div>"
      ],
      "text/plain": [
       "        id grp\n",
       "0  5694584   B\n",
       "1  5694830   B\n",
       "2  5695057   B\n",
       "3  5698872   B\n",
       "4  5699067   B"
      ]
     },
     "execution_count": 7,
     "metadata": {},
     "output_type": "execute_result"
    }
   ],
   "source": [
    "groups_add.head()"
   ]
  },
  {
   "cell_type": "code",
   "execution_count": 8,
   "metadata": {},
   "outputs": [
    {
     "name": "stdout",
     "output_type": "stream",
     "text": [
      "<class 'pandas.core.frame.DataFrame'>\n",
      "RangeIndex: 92 entries, 0 to 91\n",
      "Data columns (total 2 columns):\n",
      " #   Column  Non-Null Count  Dtype \n",
      "---  ------  --------------  ----- \n",
      " 0   id      92 non-null     int64 \n",
      " 1   grp     92 non-null     object\n",
      "dtypes: int64(1), object(1)\n",
      "memory usage: 1.6+ KB\n"
     ]
    }
   ],
   "source": [
    "groups_add.info()"
   ]
  },
  {
   "cell_type": "code",
   "execution_count": 9,
   "metadata": {},
   "outputs": [
    {
     "data": {
      "text/plain": [
       "False"
      ]
     },
     "execution_count": 9,
     "metadata": {},
     "output_type": "execute_result"
    }
   ],
   "source": [
    "# Имеются ли дубликаты по id\n",
    "\n",
    "groups_add.id.nunique() != groups_add.shape[0]"
   ]
  },
  {
   "cell_type": "code",
   "execution_count": 10,
   "metadata": {},
   "outputs": [
    {
     "data": {
      "text/plain": [
       "B    70\n",
       "A    22\n",
       "Name: grp, dtype: int64"
      ]
     },
     "execution_count": 10,
     "metadata": {},
     "output_type": "execute_result"
    }
   ],
   "source": [
    "# Сколько пользователей в каждой группе\n",
    "\n",
    "groups_add.grp.value_counts()"
   ]
  },
  {
   "cell_type": "code",
   "execution_count": 11,
   "metadata": {},
   "outputs": [
    {
     "data": {
      "text/html": [
       "<div>\n",
       "<style scoped>\n",
       "    .dataframe tbody tr th:only-of-type {\n",
       "        vertical-align: middle;\n",
       "    }\n",
       "\n",
       "    .dataframe tbody tr th {\n",
       "        vertical-align: top;\n",
       "    }\n",
       "\n",
       "    .dataframe thead th {\n",
       "        text-align: right;\n",
       "    }\n",
       "</style>\n",
       "<table border=\"1\" class=\"dataframe\">\n",
       "  <thead>\n",
       "    <tr style=\"text-align: right;\">\n",
       "      <th></th>\n",
       "      <th>student_id</th>\n",
       "    </tr>\n",
       "  </thead>\n",
       "  <tbody>\n",
       "    <tr>\n",
       "      <th>0</th>\n",
       "      <td>581585</td>\n",
       "    </tr>\n",
       "    <tr>\n",
       "      <th>1</th>\n",
       "      <td>5723133</td>\n",
       "    </tr>\n",
       "    <tr>\n",
       "      <th>2</th>\n",
       "      <td>3276743</td>\n",
       "    </tr>\n",
       "    <tr>\n",
       "      <th>3</th>\n",
       "      <td>4238589</td>\n",
       "    </tr>\n",
       "    <tr>\n",
       "      <th>4</th>\n",
       "      <td>4475369</td>\n",
       "    </tr>\n",
       "  </tbody>\n",
       "</table>\n",
       "</div>"
      ],
      "text/plain": [
       "   student_id\n",
       "0      581585\n",
       "1     5723133\n",
       "2     3276743\n",
       "3     4238589\n",
       "4     4475369"
      ]
     },
     "execution_count": 11,
     "metadata": {},
     "output_type": "execute_result"
    }
   ],
   "source": [
    "active_studs.head()"
   ]
  },
  {
   "cell_type": "code",
   "execution_count": 12,
   "metadata": {},
   "outputs": [
    {
     "name": "stdout",
     "output_type": "stream",
     "text": [
      "<class 'pandas.core.frame.DataFrame'>\n",
      "RangeIndex: 8341 entries, 0 to 8340\n",
      "Data columns (total 1 columns):\n",
      " #   Column      Non-Null Count  Dtype\n",
      "---  ------      --------------  -----\n",
      " 0   student_id  8341 non-null   int64\n",
      "dtypes: int64(1)\n",
      "memory usage: 65.3 KB\n"
     ]
    }
   ],
   "source": [
    "active_studs.info()"
   ]
  },
  {
   "cell_type": "code",
   "execution_count": 13,
   "metadata": {},
   "outputs": [
    {
     "data": {
      "text/plain": [
       "False"
      ]
     },
     "execution_count": 13,
     "metadata": {},
     "output_type": "execute_result"
    }
   ],
   "source": [
    "# Имеются ли дубликаты по student_id\n",
    "\n",
    "active_studs.student_id.nunique() != active_studs.shape[0]"
   ]
  },
  {
   "cell_type": "code",
   "execution_count": 14,
   "metadata": {},
   "outputs": [
    {
     "data": {
      "text/plain": [
       "B            6793\n",
       "A            1535\n",
       "not_found      13\n",
       "Name: grp, dtype: int64"
      ]
     },
     "execution_count": 14,
     "metadata": {},
     "output_type": "execute_result"
    }
   ],
   "source": [
    "# Группы активных пользователей\n",
    "\n",
    "active_studs.merge(groups.rename(columns={'id': 'student_id'}), how='left', on='student_id')\\\n",
    "            .fillna('not_found')\\\n",
    "            .grp.value_counts()"
   ]
  },
  {
   "cell_type": "code",
   "execution_count": 15,
   "metadata": {},
   "outputs": [],
   "source": [
    "# Для 13 пользователей отсутствует информация. Создадим groups_all\n",
    "\n",
    "groups_all = pd.concat([groups, groups_add])\\\n",
    "                .rename(columns={'id': 'student_id'})"
   ]
  },
  {
   "cell_type": "code",
   "execution_count": 16,
   "metadata": {},
   "outputs": [
    {
     "data": {
      "text/plain": [
       "True"
      ]
     },
     "execution_count": 16,
     "metadata": {},
     "output_type": "execute_result"
    }
   ],
   "source": [
    "# Проверим, что никого не потеряли\n",
    "\n",
    "groups_all.student_id.nunique() == groups.id.nunique() + groups_add.id.nunique()"
   ]
  },
  {
   "cell_type": "code",
   "execution_count": 17,
   "metadata": {},
   "outputs": [
    {
     "data": {
      "text/plain": [
       "False"
      ]
     },
     "execution_count": 17,
     "metadata": {},
     "output_type": "execute_result"
    }
   ],
   "source": [
    "# Имеются ли дубликаты по id\n",
    "\n",
    "groups_all.student_id.nunique() != groups_all.shape[0]"
   ]
  },
  {
   "cell_type": "code",
   "execution_count": 18,
   "metadata": {},
   "outputs": [
    {
     "data": {
      "text/plain": [
       "B    6803\n",
       "A    1538\n",
       "Name: grp, dtype: int64"
      ]
     },
     "execution_count": 18,
     "metadata": {},
     "output_type": "execute_result"
    }
   ],
   "source": [
    "# Группы всех активных пользователей\n",
    "\n",
    "active_studs.merge(groups_all, how='left', on='student_id')\\\n",
    "            .fillna('not_found')\\\n",
    "            .grp.value_counts()"
   ]
  },
  {
   "cell_type": "code",
   "execution_count": 19,
   "metadata": {},
   "outputs": [
    {
     "data": {
      "text/plain": [
       "B    59883\n",
       "A    14693\n",
       "Name: grp, dtype: int64"
      ]
     },
     "execution_count": 19,
     "metadata": {},
     "output_type": "execute_result"
    }
   ],
   "source": [
    "# Отлично, никого не потеряли! Идем дальше...\n",
    "# Группы всех пользователей\n",
    "\n",
    "groups_all.grp.value_counts()"
   ]
  },
  {
   "cell_type": "code",
   "execution_count": 20,
   "metadata": {},
   "outputs": [
    {
     "data": {
      "text/html": [
       "<div>\n",
       "<style scoped>\n",
       "    .dataframe tbody tr th:only-of-type {\n",
       "        vertical-align: middle;\n",
       "    }\n",
       "\n",
       "    .dataframe tbody tr th {\n",
       "        vertical-align: top;\n",
       "    }\n",
       "\n",
       "    .dataframe thead th {\n",
       "        text-align: right;\n",
       "    }\n",
       "</style>\n",
       "<table border=\"1\" class=\"dataframe\">\n",
       "  <thead>\n",
       "    <tr style=\"text-align: right;\">\n",
       "      <th></th>\n",
       "      <th>student_id</th>\n",
       "      <th>rev</th>\n",
       "    </tr>\n",
       "  </thead>\n",
       "  <tbody>\n",
       "    <tr>\n",
       "      <th>0</th>\n",
       "      <td>1627</td>\n",
       "      <td>990.0</td>\n",
       "    </tr>\n",
       "    <tr>\n",
       "      <th>1</th>\n",
       "      <td>3185</td>\n",
       "      <td>690.0</td>\n",
       "    </tr>\n",
       "    <tr>\n",
       "      <th>2</th>\n",
       "      <td>25973</td>\n",
       "      <td>690.0</td>\n",
       "    </tr>\n",
       "    <tr>\n",
       "      <th>3</th>\n",
       "      <td>26280</td>\n",
       "      <td>690.0</td>\n",
       "    </tr>\n",
       "    <tr>\n",
       "      <th>4</th>\n",
       "      <td>100300</td>\n",
       "      <td>990.0</td>\n",
       "    </tr>\n",
       "  </tbody>\n",
       "</table>\n",
       "</div>"
      ],
      "text/plain": [
       "   student_id    rev\n",
       "0        1627  990.0\n",
       "1        3185  690.0\n",
       "2       25973  690.0\n",
       "3       26280  690.0\n",
       "4      100300  990.0"
      ]
     },
     "execution_count": 20,
     "metadata": {},
     "output_type": "execute_result"
    }
   ],
   "source": [
    "checks.head()"
   ]
  },
  {
   "cell_type": "code",
   "execution_count": 21,
   "metadata": {},
   "outputs": [
    {
     "name": "stdout",
     "output_type": "stream",
     "text": [
      "<class 'pandas.core.frame.DataFrame'>\n",
      "RangeIndex: 541 entries, 0 to 540\n",
      "Data columns (total 2 columns):\n",
      " #   Column      Non-Null Count  Dtype  \n",
      "---  ------      --------------  -----  \n",
      " 0   student_id  541 non-null    int64  \n",
      " 1   rev         541 non-null    float64\n",
      "dtypes: float64(1), int64(1)\n",
      "memory usage: 8.6 KB\n"
     ]
    }
   ],
   "source": [
    "checks.info()"
   ]
  },
  {
   "cell_type": "code",
   "execution_count": 22,
   "metadata": {},
   "outputs": [
    {
     "data": {
      "text/plain": [
       "541"
      ]
     },
     "execution_count": 22,
     "metadata": {},
     "output_type": "execute_result"
    }
   ],
   "source": [
    "# Количество пользователей совершивших покупку\n",
    "\n",
    "checks.student_id.nunique()"
   ]
  },
  {
   "cell_type": "code",
   "execution_count": 23,
   "metadata": {},
   "outputs": [
    {
     "data": {
      "text/plain": [
       "count     541.000000\n",
       "mean     1059.752317\n",
       "std       762.712359\n",
       "min       199.000000\n",
       "25%       290.000000\n",
       "50%       840.000000\n",
       "75%      1900.000000\n",
       "max      4650.000000\n",
       "Name: rev, dtype: float64"
      ]
     },
     "execution_count": 23,
     "metadata": {},
     "output_type": "execute_result"
    }
   ],
   "source": [
    "# Описательные статистики трат пользователей\n",
    "\n",
    "checks.rev.describe()"
   ]
  },
  {
   "cell_type": "code",
   "execution_count": 24,
   "metadata": {},
   "outputs": [
    {
     "data": {
      "text/plain": [
       "541"
      ]
     },
     "execution_count": 24,
     "metadata": {},
     "output_type": "execute_result"
    }
   ],
   "source": [
    "# Количество пересечений пользователей в checks и groups_total\n",
    "\n",
    "checks.merge(groups_all.rename(columns={'id': 'student_id'}), how='inner', on='student_id').shape[0]"
   ]
  },
  {
   "cell_type": "code",
   "execution_count": 25,
   "metadata": {},
   "outputs": [
    {
     "data": {
      "text/plain": [
       "392"
      ]
     },
     "execution_count": 25,
     "metadata": {},
     "output_type": "execute_result"
    }
   ],
   "source": [
    "# Количество пересечений пользователей в checks и active_studs\n",
    "\n",
    "checks.merge(active_studs, how='inner', on='student_id').shape[0]"
   ]
  },
  {
   "cell_type": "markdown",
   "metadata": {},
   "source": [
    "# !!!\n",
    "### А вот тут важный момент. \n",
    "По условию данных в таблице active_studs информация о пользователях, которые зашли в дни эксперимента, а в таблице checks оплаты в дни эксперимента. При джоине таблиц checks и active_studs мы получаем 541 - 392 пользователей, которые совершили оплату в день эксперимента, тоесть присутствуют в таблице checks, но не заходили на сайт в день эксперимента, тоесть их нет в таблице active_studs. Судя по данному поведению сервис предусматривает подписочную модель. Сейчас важно то, что этих пользователей нельзя включать в анализируемую выборку, т.к. они не заходили на сервис и соответственно не увидели нововведение механики оплаты."
   ]
  },
  {
   "cell_type": "code",
   "execution_count": 26,
   "metadata": {},
   "outputs": [
    {
     "data": {
      "text/html": [
       "<div>\n",
       "<style scoped>\n",
       "    .dataframe tbody tr th:only-of-type {\n",
       "        vertical-align: middle;\n",
       "    }\n",
       "\n",
       "    .dataframe tbody tr th {\n",
       "        vertical-align: top;\n",
       "    }\n",
       "\n",
       "    .dataframe thead th {\n",
       "        text-align: right;\n",
       "    }\n",
       "</style>\n",
       "<table border=\"1\" class=\"dataframe\">\n",
       "  <thead>\n",
       "    <tr style=\"text-align: right;\">\n",
       "      <th></th>\n",
       "      <th>student_id</th>\n",
       "      <th>grp</th>\n",
       "      <th>rev</th>\n",
       "      <th>cr</th>\n",
       "    </tr>\n",
       "  </thead>\n",
       "  <tbody>\n",
       "    <tr>\n",
       "      <th>0</th>\n",
       "      <td>581585</td>\n",
       "      <td>A</td>\n",
       "      <td>0.0</td>\n",
       "      <td>0.0</td>\n",
       "    </tr>\n",
       "    <tr>\n",
       "      <th>1</th>\n",
       "      <td>5723133</td>\n",
       "      <td>A</td>\n",
       "      <td>0.0</td>\n",
       "      <td>0.0</td>\n",
       "    </tr>\n",
       "    <tr>\n",
       "      <th>2</th>\n",
       "      <td>3276743</td>\n",
       "      <td>B</td>\n",
       "      <td>0.0</td>\n",
       "      <td>0.0</td>\n",
       "    </tr>\n",
       "    <tr>\n",
       "      <th>3</th>\n",
       "      <td>4238589</td>\n",
       "      <td>A</td>\n",
       "      <td>0.0</td>\n",
       "      <td>0.0</td>\n",
       "    </tr>\n",
       "    <tr>\n",
       "      <th>4</th>\n",
       "      <td>4475369</td>\n",
       "      <td>B</td>\n",
       "      <td>0.0</td>\n",
       "      <td>0.0</td>\n",
       "    </tr>\n",
       "  </tbody>\n",
       "</table>\n",
       "</div>"
      ],
      "text/plain": [
       "   student_id grp  rev   cr\n",
       "0      581585   A  0.0  0.0\n",
       "1     5723133   A  0.0  0.0\n",
       "2     3276743   B  0.0  0.0\n",
       "3     4238589   A  0.0  0.0\n",
       "4     4475369   B  0.0  0.0"
      ]
     },
     "execution_count": 26,
     "metadata": {},
     "output_type": "execute_result"
    }
   ],
   "source": [
    "# Создадим общий датафрейм всех активных пользователей\n",
    "\n",
    "abtestdf = active_studs.merge(groups_all.rename(columns={'id': 'student_id'}), how='left', on='student_id')\\\n",
    "                        .merge(checks, how='left', on='student_id').fillna(0)\n",
    "\n",
    "# Создадим столбец 'cr' где 0 - отсутствие целевого действия (покупки), а 1 - наличие целевого действия\n",
    "\n",
    "abtestdf['cr'] = abtestdf['rev'].apply(lambda x: 1 if x != 0 else x)\n",
    "\n",
    "abtestdf.head()"
   ]
  },
  {
   "cell_type": "code",
   "execution_count": 27,
   "metadata": {
    "scrolled": true
   },
   "outputs": [
    {
     "name": "stdout",
     "output_type": "stream",
     "text": [
      "<class 'pandas.core.frame.DataFrame'>\n",
      "Int64Index: 8341 entries, 0 to 8340\n",
      "Data columns (total 4 columns):\n",
      " #   Column      Non-Null Count  Dtype  \n",
      "---  ------      --------------  -----  \n",
      " 0   student_id  8341 non-null   int64  \n",
      " 1   grp         8341 non-null   object \n",
      " 2   rev         8341 non-null   float64\n",
      " 3   cr          8341 non-null   float64\n",
      "dtypes: float64(2), int64(1), object(1)\n",
      "memory usage: 325.8+ KB\n"
     ]
    }
   ],
   "source": [
    "abtestdf.info()"
   ]
  },
  {
   "cell_type": "code",
   "execution_count": 28,
   "metadata": {},
   "outputs": [
    {
     "data": {
      "text/html": [
       "<div>\n",
       "<style scoped>\n",
       "    .dataframe tbody tr th:only-of-type {\n",
       "        vertical-align: middle;\n",
       "    }\n",
       "\n",
       "    .dataframe tbody tr th {\n",
       "        vertical-align: top;\n",
       "    }\n",
       "\n",
       "    .dataframe thead th {\n",
       "        text-align: right;\n",
       "    }\n",
       "</style>\n",
       "<table border=\"1\" class=\"dataframe\">\n",
       "  <thead>\n",
       "    <tr style=\"text-align: right;\">\n",
       "      <th></th>\n",
       "      <th>student_id</th>\n",
       "    </tr>\n",
       "    <tr>\n",
       "      <th>grp</th>\n",
       "      <th></th>\n",
       "    </tr>\n",
       "  </thead>\n",
       "  <tbody>\n",
       "    <tr>\n",
       "      <th>A</th>\n",
       "      <td>78</td>\n",
       "    </tr>\n",
       "    <tr>\n",
       "      <th>B</th>\n",
       "      <td>314</td>\n",
       "    </tr>\n",
       "  </tbody>\n",
       "</table>\n",
       "</div>"
      ],
      "text/plain": [
       "     student_id\n",
       "grp            \n",
       "A            78\n",
       "B           314"
      ]
     },
     "execution_count": 28,
     "metadata": {},
     "output_type": "execute_result"
    }
   ],
   "source": [
    "# Количество пользователей совершивших покупку по группам\n",
    "\n",
    "abtestdf.query('rev > 0').groupby('grp').agg({'student_id' : 'count'})"
   ]
  },
  {
   "cell_type": "code",
   "execution_count": 29,
   "metadata": {},
   "outputs": [
    {
     "data": {
      "image/png": "[encoded data removed]",
      "text/plain": [
       "<Figure size 432x288 with 1 Axes>"
      ]
     },
     "metadata": {
      "needs_background": "light"
     },
     "output_type": "display_data"
    }
   ],
   "source": [
    "# Распределение трат пользователей по группам\n",
    "\n",
    "sns.set(rc={'figure.figsize':(16,3)})\n",
    "sns.boxplot(data=abtestdf, x=abtestdf.query('rev > 0').rev, y=abtestdf.grp, orient=\"h\");"
   ]
  },
  {
   "cell_type": "code",
   "execution_count": 30,
   "metadata": {},
   "outputs": [
    {
     "data": {
      "image/png": "[encoded data removed]",
      "text/plain": [
       "<Figure size 1054.98x504 with 1 Axes>"
      ]
     },
     "metadata": {
      "needs_background": "light"
     },
     "output_type": "display_data"
    }
   ],
   "source": [
    "# Частотная гистограмма трат пользователей групп А и В (без нулей)\n",
    "\n",
    "sns.displot(data=abtestdf.query('rev > 0')[['rev', 'grp']], \n",
    "            x='rev', hue=\"grp\", height=7, aspect=2);"
   ]
  },
  {
   "cell_type": "code",
   "execution_count": 31,
   "metadata": {},
   "outputs": [
    {
     "data": {
      "text/plain": [
       "1900.0000    93\n",
       "290.0000     45\n",
       "1900.0001    35\n",
       "199.0000     27\n",
       "840.0000     21\n",
       "Name: rev, dtype: int64"
      ]
     },
     "execution_count": 31,
     "metadata": {},
     "output_type": "execute_result"
    }
   ],
   "source": [
    "# ТОП5 часто встречаемых трат пользователей в группе В\n",
    "\n",
    "abtestdf.query('rev > 0 & grp == \"B\"')['rev'].value_counts().head(5)"
   ]
  },
  {
   "cell_type": "code",
   "execution_count": 32,
   "metadata": {},
   "outputs": [
    {
     "data": {
      "text/plain": [
       "290.0    25\n",
       "580.0     6\n",
       "990.0     5\n",
       "590.0     5\n",
       "199.0     5\n",
       "Name: rev, dtype: int64"
      ]
     },
     "execution_count": 32,
     "metadata": {},
     "output_type": "execute_result"
    }
   ],
   "source": [
    "# ТОП5 часто встречаемых трат пользователей в группе А\n",
    "\n",
    "abtestdf.query('rev > 0 & grp == \"A\"')['rev'].value_counts().head(5)"
   ]
  },
  {
   "cell_type": "markdown",
   "metadata": {},
   "source": [
    "### 1.3.1 Результаты разведочного анализа:\n",
    "1. Файл groups содержит данные о 74484 пользователях, из которых 14671 принадлежит к группе А  и 59813 к группе B. В Файле нет данных о группах для 13 пользователей.\n",
    "2. Исходя из условий новая механика оплаты была предложена целевой группе B, контрольная группа А со старой механикой. Контрольная группа на порядок меньше тестовой, что может свидетельствовать о том, что проводился обратный A/B тест. Изначально изменение уже было внедрено для всех пользователей, а после решили понять насколько оно эффективно и для небольшой контрольной группы А изменения откатили.\n",
    "3. В дополнительном файле имеется информация о 92 пользователях, 70 из группы A и 22 из группы B. Файлы groups + groups_add содержат данные о группах всех пользователей, участвовавших в A/B тесте. \n",
    "4. Будем считать, что генеральная совокупность - это все пользователи, содержащиеся в файлах groups и groups_add - 74576 пользователей, 59883 группа B и 14693 группа А.\n",
    "5. Выборкой будем считать пользователей, посетивших сайт во время эксперимента (active_studs), участники A/B теста - 8341 пользователей, группа А - 1538, группа В - 6803. Количество пользователей, совершивших покупку в группе А - 78, в группе В - 314.\n",
    "6. Файл с информацией об оплатах checks содержит данные о 541 пользователе, из которых 392 участвовали в A/B тесте (заходили на платформу в дни проведения эксперимента). Остальные 149 пользователей не заходили на платформу, но совершили оплату, что может свидетельствовать о том, что платформа предусматривает подписочную модель. Эти 149 пользователей не включены в выборку для анализа результатов A/B теста, т.к. не взаимодействовали с платформой.\n",
    "7. Мода оплаты пользователей в группе А = 1900 рублей, и встречается 128 раз из 314 (41%). В группе В мода = 290 рублей и встречается 25 раз из 78 (32%). Такой высокий процент значения моды так же дополнительный аргумент в пользу того, что платформа предусматривает подписочную модель.\n",
    "\n",
    "### 1.4 Выбор и расчет метрик.\n",
    "\n",
    "По имеющимся данным мы можем определить:\n",
    "- ARPU - средний доход принесенный пользователем \n",
    "- ARPPU - средний доход с платящего пользователя \n",
    "- CR -конверсию в покупку"
   ]
  },
  {
   "cell_type": "code",
   "execution_count": 33,
   "metadata": {},
   "outputs": [
    {
     "data": {
      "text/html": [
       "<div>\n",
       "<style scoped>\n",
       "    .dataframe tbody tr th:only-of-type {\n",
       "        vertical-align: middle;\n",
       "    }\n",
       "\n",
       "    .dataframe tbody tr th {\n",
       "        vertical-align: top;\n",
       "    }\n",
       "\n",
       "    .dataframe thead th {\n",
       "        text-align: right;\n",
       "    }\n",
       "</style>\n",
       "<table border=\"1\" class=\"dataframe\">\n",
       "  <thead>\n",
       "    <tr style=\"text-align: right;\">\n",
       "      <th></th>\n",
       "      <th>ARPU</th>\n",
       "      <th>CR</th>\n",
       "      <th>ARPPU</th>\n",
       "    </tr>\n",
       "    <tr>\n",
       "      <th>grp</th>\n",
       "      <th></th>\n",
       "      <th></th>\n",
       "      <th></th>\n",
       "    </tr>\n",
       "  </thead>\n",
       "  <tbody>\n",
       "    <tr>\n",
       "      <th>A</th>\n",
       "      <td>47.35</td>\n",
       "      <td>5.07</td>\n",
       "      <td>933.59</td>\n",
       "    </tr>\n",
       "    <tr>\n",
       "      <th>B</th>\n",
       "      <td>58.06</td>\n",
       "      <td>4.62</td>\n",
       "      <td>1257.88</td>\n",
       "    </tr>\n",
       "  </tbody>\n",
       "</table>\n",
       "</div>"
      ],
      "text/plain": [
       "      ARPU    CR    ARPPU\n",
       "grp                      \n",
       "A    47.35  5.07   933.59\n",
       "B    58.06  4.62  1257.88"
      ]
     },
     "execution_count": 33,
     "metadata": {},
     "output_type": "execute_result"
    }
   ],
   "source": [
    "ARPPU = (abtestdf.query('rev > 0').groupby('grp').agg({'rev': 'sum'})\\\n",
    "         /abtestdf.query('rev > 0').groupby('grp').agg({'rev': 'count'}))\\\n",
    "         .round(2).rename(columns = {'rev': 'ARPPU'}).reset_index()\n",
    "\n",
    "CR = (abtestdf.query('rev > 0').groupby('grp').agg({'rev': 'count'})\\\n",
    "      /abtestdf.groupby('grp').agg({'rev': 'count'}) * 100)\\\n",
    "      .round(2).rename(columns = {'rev': 'CR'}).reset_index()\n",
    "\n",
    "ARPU = (abtestdf.groupby('grp').agg({'rev': 'sum'})\\\n",
    "        /abtestdf.groupby('grp').agg({'rev': 'count'}))\\\n",
    "        .round(2).rename(columns = {'rev': 'ARPU'}).reset_index()\n",
    "\n",
    "ARPU.merge(CR, on='grp').merge(ARPPU, on='grp').set_index('grp')"
   ]
  },
  {
   "cell_type": "markdown",
   "metadata": {},
   "source": [
    "### 1.5 Формирование гипитез и выбор уровня значимости\n",
    "\n",
    "# ARPU = CR * ARPPU\n",
    "\n",
    "В ходе тестирования будем проверять изменчивость метрик CR и ARPPU, как метрик-компонент ARPU.\n",
    "\n",
    "Будем проверять две гипотезы:\n",
    "1. Н0: ARPPU_A = ARPPU_B. H1: ARPPU(A) < ARPPU(B).\n",
    "2. Н0: CR_A = CR_B. H1: CR(A) > CR(B).\n",
    "\n",
    "Уровень значимости α = 0.05\n",
    "\n",
    "### 1.6 Выбор статистических тестов\n",
    "1. ARPPU - среднее, оценим возможность применения t-test. \n",
    "2. CR - категориальная переменная, будем использовать критерий хи-квадрат.\n",
    "\n",
    "Для оценки возможности применения t-test убедимся:\n",
    "1. В гомогенности дисперсий с помощью критерия Левена α = 0.05.\n",
    "2. Так как выборки для расчета ARPPU относительно небольшие (78 значений для группы А и 314 для группы В) и в группе А имеются пользователи которые совершили покупки на суммы значительно большие, чем средние значения, необходимо убедиться, что распределение средних является нормальным. Будем проверять с помощью теста Шапиро-Уилка α = 0.05."
   ]
  },
  {
   "cell_type": "code",
   "execution_count": 34,
   "metadata": {},
   "outputs": [
    {
     "data": {
      "text/plain": [
       "LeveneResult(statistic=3.0756816999816055, pvalue=0.08025675761347022)"
      ]
     },
     "execution_count": 34,
     "metadata": {},
     "output_type": "execute_result"
    }
   ],
   "source": [
    "# Проверим гомогенность дисперсий\n",
    "\n",
    "scipy.stats.levene(abtestdf.query('grp == \"A\" & rev > 0')['rev'],\n",
    "                   abtestdf.query('grp == \"B\" & rev > 0')['rev'])"
   ]
  },
  {
   "cell_type": "markdown",
   "metadata": {},
   "source": [
    "p-value > α. Н0 о гомогенности дисперсий не отвергаем.\n",
    "\n",
    "Для проверки Н0 о нормальности средних засимулируем 5000 выборок с возвращениями (количество значений в выборке равно количеству значений в группах А и В), чтобы в дальнейшем проверить тестом Шапиро-Уилка."
   ]
  },
  {
   "cell_type": "code",
   "execution_count": 35,
   "metadata": {},
   "outputs": [],
   "source": [
    "A_means = []\n",
    "B_means = []\n",
    "\n",
    "ARPPU_A = abtestdf.query('grp == \"A\" & rev > 0')['rev']\n",
    "ARPPU_B = abtestdf.query('grp == \"B\" & rev > 0')['rev']\n",
    "\n",
    "sample_size_A = len(abtestdf.query('grp == \"A\" & rev > 0')['rev'])\n",
    "sample_size_B = len(abtestdf.query('grp == \"B\" & rev > 0')['rev'])\n",
    "\n",
    "for i in range(5000):\n",
    "    A_mean_i = ARPPU_A.sample(sample_size_A, replace=True).mean() \n",
    "    B_mean_i = ARPPU_B.sample(sample_size_B, replace=True).mean()\n",
    "    A_means.append(A_mean_i)\n",
    "    B_means.append(B_mean_i)"
   ]
  },
  {
   "cell_type": "code",
   "execution_count": 36,
   "metadata": {},
   "outputs": [
    {
     "data": {
      "image/png": "[encoded data removed]",
      "text/plain": [
       "<Figure size 360x360 with 1 Axes>"
      ]
     },
     "metadata": {
      "needs_background": "light"
     },
     "output_type": "display_data"
    }
   ],
   "source": [
    "sns.displot(A_means);"
   ]
  },
  {
   "cell_type": "code",
   "execution_count": 37,
   "metadata": {},
   "outputs": [
    {
     "data": {
      "image/png": "[encoded data removed]",
      "text/plain": [
       "<Figure size 432x288 with 1 Axes>"
      ]
     },
     "metadata": {
      "needs_background": "light"
     },
     "output_type": "display_data"
    }
   ],
   "source": [
    "stats.probplot(A_means, dist=\"norm\", plot=pylab);"
   ]
  },
  {
   "cell_type": "code",
   "execution_count": 38,
   "metadata": {},
   "outputs": [
    {
     "data": {
      "text/plain": [
       "ShapiroResult(statistic=0.9974409937858582, pvalue=1.8789502576055384e-07)"
      ]
     },
     "execution_count": 38,
     "metadata": {},
     "output_type": "execute_result"
    }
   ],
   "source": [
    "shapiro(A_means)"
   ]
  },
  {
   "cell_type": "code",
   "execution_count": 39,
   "metadata": {},
   "outputs": [
    {
     "data": {
      "image/png": "[encoded data removed]",
      "text/plain": [
       "<Figure size 360x360 with 1 Axes>"
      ]
     },
     "metadata": {
      "needs_background": "light"
     },
     "output_type": "display_data"
    }
   ],
   "source": [
    "sns.displot(B_means);"
   ]
  },
  {
   "cell_type": "code",
   "execution_count": 40,
   "metadata": {},
   "outputs": [
    {
     "data": {
      "image/png": "[encoded data removed]",
      "text/plain": [
       "<Figure size 432x288 with 1 Axes>"
      ]
     },
     "metadata": {
      "needs_background": "light"
     },
     "output_type": "display_data"
    }
   ],
   "source": [
    "stats.probplot(B_means, dist=\"norm\", plot=pylab);"
   ]
  },
  {
   "cell_type": "code",
   "execution_count": 41,
   "metadata": {},
   "outputs": [
    {
     "data": {
      "text/plain": [
       "ShapiroResult(statistic=0.999650776386261, pvalue=0.557632327079773)"
      ]
     },
     "execution_count": 41,
     "metadata": {},
     "output_type": "execute_result"
    }
   ],
   "source": [
    "shapiro(B_means)"
   ]
  },
  {
   "cell_type": "markdown",
   "metadata": {},
   "source": [
    "Среднее в группе А распределено не нормально (p-value < α), это так же видно и визуально, распределение \"скошено\" слево. Это следтсвие присутствия в выборке пользователей, которые потратили значительно больше, чем остальные. Таких пользователей \"выбросами\" считать нельзя, поэтому не будем их удалять из выборки. При этом распредление средних ARPPU в группе В нормальное. Тем не менее, в связи с тем, что не удволетворяется критерии нормальности для применения t-test, для проверки гипотезы о равенстве ARPPU будем использовать bootstrap."
   ]
  },
  {
   "cell_type": "markdown",
   "metadata": {},
   "source": [
    "### 1.7 Статистическая проверка гипотез\n",
    "\n",
    "### 1.7.1 Проверка гипотезы Н0: ARPPU_A = ARPPU_B. H1: ARPPU(A) < ARPPU(B).\n",
    "\n",
    "Возьмем 10000 подвыборок с возвращениями из выборок А и В и в каждоый выборке посчитаем разность средних."
   ]
  },
  {
   "cell_type": "code",
   "execution_count": 42,
   "metadata": {},
   "outputs": [],
   "source": [
    "AB_mean_delta = []\n",
    "\n",
    "ARPPU_A = abtestdf.query('grp == \"A\" & rev > 0')['rev']\n",
    "ARPPU_B = abtestdf.query('grp == \"B\" & rev > 0')['rev']\n",
    "\n",
    "sample_size_A = len(abtestdf.query('grp == \"A\" & rev > 0')['rev'])\n",
    "sample_size_B = len(abtestdf.query('grp == \"B\" & rev > 0')['rev'])\n",
    "\n",
    "for i in range(10000):\n",
    "    AB_mean_i = ARPPU_A.sample(sample_size_A, replace=True).mean() \\\n",
    "                - ARPPU_B.sample(sample_size_B, replace=True).mean()\n",
    "    AB_mean_delta.append(AB_mean_i)"
   ]
  },
  {
   "cell_type": "code",
   "execution_count": 43,
   "metadata": {},
   "outputs": [
    {
     "data": {
      "image/png": "[encoded data removed]",
      "text/plain": [
       "<Figure size 360x360 with 1 Axes>"
      ]
     },
     "metadata": {
      "needs_background": "light"
     },
     "output_type": "display_data"
    }
   ],
   "source": [
    "sns.displot(AB_mean_delta);"
   ]
  },
  {
   "cell_type": "code",
   "execution_count": 44,
   "metadata": {},
   "outputs": [
    {
     "data": {
      "text/plain": [
       "0   -133.870486\n",
       "Name: 0.95, dtype: float64"
      ]
     },
     "execution_count": 44,
     "metadata": {},
     "output_type": "execute_result"
    }
   ],
   "source": [
    "# Т.к. наша альтернативная гипотеза звучит как ARPPU(A) < ARPPU(B) возьмем только правый хвост\n",
    "\n",
    "pd.DataFrame(AB_mean_delta).quantile(0.95)"
   ]
  },
  {
   "cell_type": "markdown",
   "metadata": {},
   "source": [
    "*Вывод:* Так как 0 не попадает в границы доверительного интервала ($-\\infty$; -97.66] нулевая гипотеза о равенстве ARPU в группах А и В отклоняется и принимается альтернативная ARPPU(A) < ARPPU(B).\n",
    "\n",
    "### 1.7.2. Проверка гипотезы Н0: CR_A = CR_B. H1: CR(A) > CR(B).\n",
    "\n",
    "Проверим Н0: CR_A = CR_B\n",
    "\n",
    "Согласно разведочного анализа:\n",
    "\n",
    "По группе А:\n",
    "- Общее число пользователей - 1538\n",
    "- Совершивших покупку - 78\n",
    "\n",
    "По группе В:\n",
    "- Общее число пользователей - 6803\n",
    "- Совершивших покупку - 314\n",
    "\n",
    "Будем использовать частоты купил - не купил."
   ]
  },
  {
   "cell_type": "code",
   "execution_count": 45,
   "metadata": {},
   "outputs": [
    {
     "data": {
      "text/plain": [
       "(0.48480826522557896,\n",
       " 0.48625240457231045,\n",
       " 1,\n",
       " array([[  72.28102146, 1465.71897854],\n",
       "        [ 319.71897854, 6483.28102146]]))"
      ]
     },
     "execution_count": 45,
     "metadata": {},
     "output_type": "execute_result"
    }
   ],
   "source": [
    "chi2_contingency([[78, 1538 - 78], [314, 6803 - 314]])"
   ]
  },
  {
   "cell_type": "markdown",
   "metadata": {},
   "source": [
    "*Вывод:* Так как p-value > ранее принятого уровня значимости 0.05 нулевая гипотеза о CR_A = CR_B не отвергается."
   ]
  },
  {
   "cell_type": "markdown",
   "metadata": {},
   "source": [
    "# 1.8 Выводы\n",
    "\n",
    "Проведен статистический анализ данных A/B теста с новой механикой оплаты услуг на сайте.\n",
    "\n",
    "**Сформулированы две гипотезы:**\n",
    "1. Н0: ARPPU_A = ARPPU_B. H1: ARPPU(A) < ARPPU(B).\n",
    "2. Н0: CR_A = CR_B. H1: CR(A) > CR(B).\n",
    "\n",
    "**Проверка гипотез осуществлялась для уровня значимости:**\n",
    "- α = 0.05\n",
    "\n",
    "**Выбраны тесты для проверки гипотез:**\n",
    "1. Для ARPPU выбран bootstrap. \n",
    "2. Для CR выбран критерий хи-квадрат.\n",
    "\n",
    "**Результаты проверки гипотез:**\n",
    "1. p-value < α. Принимается H1: ARPPU(A) < ARPPU(B).\n",
    "2. p-value > α. Н0: CR_A = CR_B не отклоняется. \n",
    "\n",
    "**Итоговый вывод:**\n",
    "По результатам A/B теста новая механика оплаты увеличила ARPPU и как следствие ARPU, CR без изменений. Т.к. новая механика оплаты уже внедрена, откатывать назад изменения не стоит.\n",
    "\n",
    "*Дополнительные рекомендации:*\n",
    "Так как отсутствует контекст проведения A/B теста, что именно за сервис и как именно изменилась механика оплаты, следующая информация в виде предположений. Возможно сервис построен на подписочной модели, т.к. мода затрат пользователей в группе А = 1900 рублей, и встречается 128 раз из 314 (41%), в группе В мода = 290 рублей и встречается 25 раз из 78 (32%). Так же в пользу этой версии говорит факт того, что имеются пользователи не заходившие на сайт во время A/B теста, но совершившие оплату.\n",
    "Если речь идет о введении нового тарифа, например, 1900 рублей за 8 месяцев для тестовой группы, а для контрольной был доступен только 290 рублей в месяц, то в этом случае рекомендуется продолжить отслеживать движение ARPPU на дистанции больше, чем действие нового тарифа."
   ]
  },
  {
   "cell_type": "code",
   "execution_count": null,
   "metadata": {},
   "outputs": [],
   "source": []
  }
 ],
 "metadata": {
  "kernelspec": {
   "display_name": "Python 3 (ipykernel)",
   "language": "python",
   "name": "python3"
  },
  "language_info": {
   "codemirror_mode": {
    "name": "ipython",
    "version": 3
   },
   "file_extension": ".py",
   "mimetype": "text/x-python",
   "name": "python",
   "nbconvert_exporter": "python",
   "pygments_lexer": "ipython3",
   "version": "3.10.4"
  }
 },
 "nbformat": 4,
 "nbformat_minor": 4
}
